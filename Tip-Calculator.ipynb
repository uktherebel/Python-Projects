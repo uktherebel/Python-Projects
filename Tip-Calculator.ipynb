{
 "cells": [
  {
   "cell_type": "code",
   "execution_count": 1,
   "id": "715389bc-7e73-4cb5-abaa-510224a89f8e",
   "metadata": {},
   "outputs": [
    {
     "name": "stdout",
     "output_type": "stream",
     "text": [
      "Welcome to the tip calulator.\n"
     ]
    },
    {
     "name": "stdin",
     "output_type": "stream",
     "text": [
      "What is the total bill? $ 345\n",
      "How much tip would you like to give? 10, 12, 15?  15\n",
      "How many people to split the bill?  3\n"
     ]
    },
    {
     "name": "stdout",
     "output_type": "stream",
     "text": [
      "Each person should pay: $132.25\n"
     ]
    }
   ],
   "source": [
    "print(\"Welcome to the tip calulator.\")\n",
    "bill = float(input(\"What is the total bill? $\"))\n",
    "tip = int(input(\"How much tip would you like to give? 10, 12, 15? \"))\n",
    "persons = int(input(\"How many people to split the bill? \"))\n",
    "bill_with_tip = (tip/100 * bill) + bill #or (1 + tip/100) * bill \n",
    "\n",
    "amt_per_person = round(bill_with_tip/persons, 2)\n",
    "amt_per_person = \"{:.2f}\".format(bill_with_tip/persons)\n",
    "\n",
    "\n",
    "print(f\"Each person should pay: ${amt_per_person}\")"
   ]
  }
 ],
 "metadata": {
  "kernelspec": {
   "display_name": "Python 3 (ipykernel)",
   "language": "python",
   "name": "python3"
  },
  "language_info": {
   "codemirror_mode": {
    "name": "ipython",
    "version": 3
   },
   "file_extension": ".py",
   "mimetype": "text/x-python",
   "name": "python",
   "nbconvert_exporter": "python",
   "pygments_lexer": "ipython3",
   "version": "3.9.13"
  }
 },
 "nbformat": 4,
 "nbformat_minor": 5
}
