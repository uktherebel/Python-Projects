{
 "cells": [
  {
   "cell_type": "code",
   "execution_count": 1,
   "id": "a218b73a-7c9f-49d2-8a4f-2c8f83937827",
   "metadata": {},
   "outputs": [
    {
     "name": "stdout",
     "output_type": "stream",
     "text": [
      "Welcome to the PyPassword Generator!\n"
     ]
    },
    {
     "name": "stdin",
     "output_type": "stream",
     "text": [
      "How many letters would you like in your password?\n",
      " 3\n",
      "How many symbols would you like?\n",
      " 5\n",
      "How many numbers would you like?\n",
      " 3\n"
     ]
    },
    {
     "name": "stdout",
     "output_type": "stream",
     "text": [
      "['F', 'b', 'e', ')', '(', '+', '&', '!', '3', '2', '7']\n",
      "['7', ')', '2', '&', '+', '!', 'F', 'b', 'e', '(', '3']\n",
      "Your password is: 7)2&+!Fbe(3\n"
     ]
    }
   ],
   "source": [
    "import random\n",
    "\n",
    "letters = ['a', 'b', 'c', 'd', 'e', 'f', 'g', 'h', 'i', 'j', 'k', 'l', 'm', 'n', 'o', 'p', 'q', 'r', 's', 't', 'u', 'v',\n",
    "           'w', 'x', 'y', 'z', 'A', 'B', 'C', 'D', 'E', 'F', 'G', 'H', 'I', 'J', 'K', 'L', 'M', 'N', 'O', 'P', 'Q', 'R',\n",
    "           'S', 'T', 'U', 'V', 'W', 'X', 'Y', 'Z']\n",
    "numbers = ['0', '1', '2', '3', '4', '5', '6', '7', '8', '9']\n",
    "symbols = ['!', '#', '$', '%', '&', '(', ')', '*', '+']\n",
    "\n",
    "print(\"Welcome to the PyPassword Generator!\")\n",
    "nr_letters = int(input(\"How many letters would you like in your password?\\n\"))\n",
    "nr_symbols = int(input(f\"How many symbols would you like?\\n\"))\n",
    "nr_numbers = int(input(f\"How many numbers would you like?\\n\"))\n",
    "\n",
    "password_list = [] # empty list \n",
    "\n",
    "for n in range(1, nr_letters + 1):\n",
    "    password_list += random.choice(letters)\n",
    "for n in range(1, nr_symbols + 1):\n",
    "    password_list += random.choice(symbols)\n",
    "for n in range(1, nr_numbers + 1):\n",
    "    password_list += random.choice(numbers)\n",
    "\n",
    "# There are two ways to reorder items in a list\n",
    "# 1. Use random.shuffle\n",
    "# 2. Use a 'for' loop\n",
    "\t# 'for' loop method is much more manual and difficult \n",
    "print(password_list)\n",
    "random.shuffle(password_list)\n",
    "print(password_list)\n",
    "\n",
    "# Need to turn it back to a string: using a 'for' loop\n",
    "password = \"\" # empty string\n",
    "for n in password_list:\n",
    "    password += n \n",
    "\n",
    "print(f\"Your password is: {password}\")"
   ]
  },
  {
   "cell_type": "code",
   "execution_count": null,
   "id": "00322325-9310-4901-a932-64119a40d3ce",
   "metadata": {},
   "outputs": [],
   "source": []
  }
 ],
 "metadata": {
  "kernelspec": {
   "display_name": "Python 3 (ipykernel)",
   "language": "python",
   "name": "python3"
  },
  "language_info": {
   "codemirror_mode": {
    "name": "ipython",
    "version": 3
   },
   "file_extension": ".py",
   "mimetype": "text/x-python",
   "name": "python",
   "nbconvert_exporter": "python",
   "pygments_lexer": "ipython3",
   "version": "3.9.13"
  }
 },
 "nbformat": 4,
 "nbformat_minor": 5
}
