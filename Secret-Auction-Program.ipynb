{
 "cells": [
  {
   "cell_type": "code",
   "execution_count": 1,
   "id": "1bb0aa3a-ed43-4cc7-a44f-3dc51d64f08b",
   "metadata": {},
   "outputs": [],
   "source": [
    "logo = '''\n",
    "                         ___________\n",
    "                         \\         /\n",
    "                          )_______(\n",
    "                          |\"\"\"\"\"\"\"|_.-._,.---------.,_.-._\n",
    "                          |       | | |               | | ''-.\n",
    "                          |       |_| |_             _| |_..-'\n",
    "                          |_______| '-' `'---------'` '-'\n",
    "                          )\"\"\"\"\"\"\"(\n",
    "                         /_________\\\\\n",
    "                       .-------------.\n",
    "                      /_______________\\\\\n",
    "'''"
   ]
  },
  {
   "cell_type": "code",
   "execution_count": 2,
   "id": "d7f387f3-f5ad-4f50-a11f-5dec1a33f9ab",
   "metadata": {},
   "outputs": [
    {
     "name": "stdout",
     "output_type": "stream",
     "text": [
      "\n",
      "                         ___________\n",
      "                         \\         /\n",
      "                          )_______(\n",
      "                          |\"\"\"\"\"\"\"|_.-._,.---------.,_.-._\n",
      "                          |       | | |               | | ''-.\n",
      "                          |       |_| |_             _| |_..-'\n",
      "                          |_______| '-' `'---------'` '-'\n",
      "                          )\"\"\"\"\"\"\"(\n",
      "                         /_________\\\n",
      "                       .-------------.\n",
      "                      /_______________\\\n",
      "\n"
     ]
    },
    {
     "name": "stdin",
     "output_type": "stream",
     "text": [
      "What is your name?:  Usama\n",
      "What is your bid: $ 23\n",
      "Are there any more bidders? Type 'yes' or 'no'. \n",
      " yes\n",
      "What is your name?:  Natalia\n",
      "What is your bid: $ 34\n",
      "Are there any more bidders? Type 'yes' or 'no'. \n",
      " yes\n",
      "What is your name?:  Heather\n",
      "What is your bid: $ 333\n",
      "Are there any more bidders? Type 'yes' or 'no'. \n",
      " no\n"
     ]
    },
    {
     "name": "stdout",
     "output_type": "stream",
     "text": [
      "The winner is Heather with a bid of $333.\n"
     ]
    }
   ],
   "source": [
    "# clear cannot be imported in jupyter\n",
    "# from replit import clear\n",
    "\n",
    "print(logo)\n",
    "\n",
    "def highest_bidder(bidding_record): \n",
    "    # bigging_record = {\"Angela\": $123, \"James\": $130}\n",
    "    highest_bid = 0 \n",
    "    winner = \"\"\n",
    "    for bidder in bidding_record: \n",
    "        bid_amt = bidding_record[bidder]\n",
    "        if bid_amt > highest_bid: \n",
    "            highest_bid = bid_amt \n",
    "            winner = bidder \n",
    "    print(f\"The winner is {winner} with a bid of ${highest_bid}.\")\n",
    "    \n",
    "\n",
    "bids = {}\n",
    "end_bidding = False\n",
    "\n",
    "while not end_bidding: \n",
    "    name = input(\"What is your name?: \")\n",
    "    price = int(input(\"What is your bid: $\"))\n",
    "    bids[name] = price \n",
    "    should_continue = input(\"Are there any more bidders? Type 'yes' or 'no'. \\n\")\n",
    "    if should_continue == \"no\": \n",
    "        end_bidding = True\n",
    "        highest_bidder(bids)\n",
    "    # elif should_continue == \"yes\": \n",
    "        # clear() "
   ]
  }
 ],
 "metadata": {
  "kernelspec": {
   "display_name": "Python 3 (ipykernel)",
   "language": "python",
   "name": "python3"
  },
  "language_info": {
   "codemirror_mode": {
    "name": "ipython",
    "version": 3
   },
   "file_extension": ".py",
   "mimetype": "text/x-python",
   "name": "python",
   "nbconvert_exporter": "python",
   "pygments_lexer": "ipython3",
   "version": "3.9.13"
  }
 },
 "nbformat": 4,
 "nbformat_minor": 5
}
